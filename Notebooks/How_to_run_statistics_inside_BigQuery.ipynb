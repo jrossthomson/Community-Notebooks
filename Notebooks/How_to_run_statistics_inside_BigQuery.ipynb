{
  "cells": [
    {
      "cell_type": "markdown",
      "metadata": {
        "id": "_Pj1aDLeeqof"
      },
      "source": [
        "# ISB-CGC Community Notebooks\n",
        "\n"
      ]
    },
    {
      "cell_type": "markdown",
      "metadata": {
        "id": "CIivGB6Veqy6"
      },
      "source": [
        "```\n",
        "Title:   How to run statistics inside BigQuery\n",
        "Author:  J Ross Thomson; drj_AT_google.com\n",
        "Created: 2023-05-01\n",
        "Purpose: Demonstrate the use of Statslib UDFs for BigQuery\n",
        "Medium:  https://medium.com/@jrossthomson/how-to-run-statistics-inside-bigquery-95c0c6864f23\n",
        "Notes:   Works in Google Colaboratory notebooks.\n",
        "Github:  https://github.com/GoogleCloudPlatform/bigquery-utils/tree/master/udfs/community#statslib-statistical-udfs\n",
        "Repo:    https://github.com/isb-cgc/Community-Notebooks/blob/master/Notebooks/How_to_run_statistics_inside_BigQuery.ipynb\n",
        "```"
      ]
    },
    {
       "source": [
        "<table class=\"tfo-notebook-buttons\" align=\"left\">\n",
        "  <td>\n",
        "    <a target=\"_blank\" href=\"https://colab.research.google.com/github/jrossthomson/Community-Notebooks/blob/master/docs/tutorials/How_to_run_statistics_inside_BigQuery.ipynb\"><img src=\"https://quantumai.google/site-assets/images/buttons/colab_logo_1x.png\" />Run in Google Colab</a>\n",
        "  </td>\n",
        "  <td>\n",
        "    <a target=\"_blank\" href=\"https://github.com/jrossthomson/Community-Notebooks/blob/master/docs/tutorials/How_to_run_statistics_inside_BigQuery.ipynb\"><img src=\"https://quantumai.google/site-assets/images/buttons/github_logo_1x.png\" />View source on GitHub</a>\n",
        "  </td>\n",
        "</table>"
       ],
       "cell_type": "markdown",
       "metadata": {}
    },
    {
      "cell_type": "markdown",
      "metadata": {
        "id": "tHZyDmniQNHn"
      },
      "source": [
        "**Big data is hard**. Statistics is even harder. Doing statistics on big data is mind-blowingly hard. We are going to provide some tools to start you on a road to making statistics on big data, if not easy, at least possible.\n",
        "\n",
        "In this notebook we will demonstrate how to run statistical tests directly in BigQuery. We make use of the BigQuery Utils package, where we have a section called StatsLib. [It can be found on Github](https://github.com/GoogleCloudPlatform/bigquery-utils/tree/master/udfs/community#statslib-statistical-udfs)."
      ]
    },
    {
      "cell_type": "markdown",
      "source": [
        "# Getting started\n",
        "The key requirement of this notebook is to have a Google Cloud Project to work with.\n",
        "\n",
        "* If you have a project, you just need to have the [project id](https://support.google.com/googleapi/answer/7014113?hl=en).\n",
        "* To create a project, [this guide provides the instructions to do it](https://cloud.google.com/resource-manager/docs/creating-managing-projects#console)."
      ],
      "metadata": {
        "id": "rVtURXsh2EcS"
      }
    },
    {
      "cell_type": "markdown",
      "metadata": {
        "id": "Wm5fT5IBSAdx"
      },
      "source": [
        "## Google Authentication\n",
        "To authorize Google Cloud client libraries to run on Colab, it is [necessary to authenticate](https://cloud.google.com/sdk/gcloud/reference/auth/application-default/login) using the `application-default` login. The steps are simple:\n",
        "\n",
        "1. Execute the code cell below.\n",
        "1. This will output a URL.\n",
        "1. Clicking on this URL will pop out a new browser tab.\n",
        "1. Select the account you are using in Colab, it should be the default.\n",
        "1. Select `Allow` to enable access to your Cloud resources.\n",
        "1. Select `Copy` to get the authorization code.\n",
        "1. Paste the authorization code into the text box next to `Enter authorization code:`\n",
        "\n",
        "The successful output of this will start with `Credentials saved to file:`"
      ]
    },
    {
      "cell_type": "code",
      "execution_count": null,
      "metadata": {
        "id": "toK6dV6zvGJJ"
      },
      "outputs": [],
      "source": [
        "!gcloud auth application-default login"
      ]
    },
    {
      "cell_type": "markdown",
      "source": [
        "## Set Project ID\n",
        "For this notebook, you need to configure `gcloud` to work with your project. Update `[MY_PROJECT_ID]` below with the project ID of your project."
      ],
      "metadata": {
        "id": "y7uGGK0s1kGs"
      }
    },
    {
      "cell_type": "code",
      "execution_count": null,
      "metadata": {
        "id": "GF22A0uwvhji"
      },
      "outputs": [],
      "source": [
        "project_id = \"[MY_PROJECT_ID]\"\n",
        "!gcloud config set project {project_id}\n",
        "!gcloud config list"
      ]
    },
    {
      "cell_type": "markdown",
      "metadata": {
        "id": "1iSD59Z5eTba"
      },
      "source": [
        "\n",
        "---\n"
      ]
    },
    {
      "cell_type": "markdown",
      "source": [
        "## Starting Python\n",
        "Here you need to import the Python libraries used in the code below."
      ],
      "metadata": {
        "id": "NFNFEK4pQ44T"
      }
    },
    {
      "cell_type": "code",
      "execution_count": null,
      "metadata": {
        "id": "hLiNsOYdez6Q"
      },
      "outputs": [],
      "source": [
        "import seaborn as sns\n",
        "import matplotlib.pyplot as plt\n",
        "import pandas_gbq"
      ]
    },
    {
      "cell_type": "markdown",
      "source": [
        "# Use Python to query data from BigQuery\n",
        "\n",
        "As described in the Medium.com post, you can create query to extract data from tables (in this case, from the Iris public dataset), and immediately run the t-Test UDF.\n",
        "\n",
        "This Python function creates and executes a query running the bigquery-utils UDF: t_test. The output of this query  provides the [T value and the degrees of freedom DOF](https://towardsdatascience.com/the-statistical-analysis-t-test-explained-for-beginners-and-experts-fd0e358bbb62).\n",
        "\n",
        "The output should be `{'t_value': 5.629165259719834, 'dof': 98}`."
      ],
      "metadata": {
        "id": "v4tLP82DQ_oD"
      }
    },
    {
      "cell_type": "code",
      "source": [
        "def get_t_test(feature=\"sepal_length\", species1=\"versicolor\", species2=\"virginica\"):\n",
        "\n",
        "  query = \"\"\"\n",
        "  SELECT bqutil.fn.t_test(\n",
        "    ARRAY(SELECT {0} from `bigquery-public-data.ml_datasets.iris` WHERE species = \"{1}\"),\n",
        "    ARRAY(SELECT {0} from `bigquery-public-data.ml_datasets.iris` WHERE species = \"{2}\")\n",
        "  )\n",
        "  AS t_test;\n",
        "  \"\"\".format(feature, species1, species2)\n",
        "  return(pandas_gbq.read_gbq(query,project_id=project_id))\n",
        "get_t_test()"
      ],
      "metadata": {
        "id": "UpAmvUEwsmSz"
      },
      "execution_count": null,
      "outputs": []
    },
    {
      "cell_type": "markdown",
      "source": [
        "## Visualizing the data\n",
        "The T value, 5.629, is large enough to indicate a significant difference in the populations. To see what is going on, we can download the data, and create a plot of the dataset.\n",
        "\n",
        "Run the next cell."
      ],
      "metadata": {
        "id": "Nxj_3xrYFULc"
      }
    },
    {
      "cell_type": "code",
      "source": [
        "def get_iris_data():\n",
        "\n",
        "  query = \"\"\"\n",
        "  SELECT * from `bigquery-public-data.ml_datasets.iris`\n",
        "  AS iris_data;\n",
        "  \"\"\"\n",
        "  return(pandas_gbq.read_gbq(query,project_id=project_id))\n",
        "\n",
        "def plot_iris(df):\n",
        "\n",
        "  sns.set_theme(style=\"whitegrid\")\n",
        "  axes = sns.catplot(x=\"species\", y=\"sepal_length\", data=df, kind=\"boxen\",  height=8.27, palette=\"Set2\", aspect=1.618)\n",
        "  sns.swarmplot(x=\"species\", y=\"sepal_length\",data=df, hue=\"species\", palette=\"Set2\")\n",
        "\n",
        "  axes.fig.suptitle(t=\"Sepal Length by Species\")\n",
        "  axes.set(ylabel=\"Sepal Length\")\n",
        "  axes.set(xlabel=\"Species\")\n",
        "\n",
        "  axes.fig.autofmt_xdate() # rotate values in x axis\n",
        "\n",
        "  plt.show()\n",
        "  plt.close()\n",
        "\n",
        "df = get_iris_data()\n",
        "plot_iris(df)"
      ],
      "metadata": {
        "id": "2PoYGeGBUj2k"
      },
      "execution_count": null,
      "outputs": []
    },
    {
      "cell_type": "markdown",
      "source": [
        "## Results\n",
        "As you can see above there is a lot of difference in the Sepal Length between the different species."
      ],
      "metadata": {
        "id": "WWK4276uPPoT"
      }
    },
    {
      "cell_type": "markdown",
      "source": [
        "***"
      ],
      "metadata": {
        "id": "MdfuoVlaXsn7"
      }
    },
    {
      "cell_type": "markdown",
      "source": [
        "# A more complicated example\n",
        "\n",
        "Below is the query that is discussed in the Medium article. This returns a table of `gene_name` and `feature`, ranked by significance. The ordering is by the `p` value. A smaller `p` value indicates the significance of the difference in the measured populations. Understanding the populations is a bit challenging.\n"
      ],
      "metadata": {
        "id": "u6-cfD8PQYnT"
      }
    },
    {
      "cell_type": "markdown",
      "source": [
        "## Populations\n",
        "\n",
        "There are three key fields: `study`, `gene_name` and `feature`.\n",
        "\n",
        "* `study` refers to a collection of patients who were involved in a particular clinical study.\n",
        "* `feature` refers to a specific clinical manifestation of disease\n",
        "* `gene_name` refers to a known gene\n",
        "\n",
        "The value that is being plotted in the charts below is the `protein_expression`.\n",
        "\n",
        "All of this is explained in more detail in the [ISB-CGC documentation](https://isb-cancer-genomics-cloud.readthedocs.io/en/latest/sections/data/TCGA_top.html).\n",
        "\n",
        "In this case, each `gene_name` and `feature` combination represents a _population_.\n",
        "\n",
        "Finally, the ranking of the table below, is an indication of the significance of the population variation of the `protein_expression`, as determined by the [Kruskal-Wallis Test](https://en.wikipedia.org/wiki/Kruskal%E2%80%93Wallis_one-way_analysis_of_variance).\n"
      ],
      "metadata": {
        "id": "9QXl1xR7bD08"
      }
    },
    {
      "cell_type": "markdown",
      "source": [
        "## Observations\n",
        "The key observation here is that for the first few results in the table, the `p` value is very small. This indicates a significant result.\n",
        "\n",
        "In the next section, you will plot the first 10 items in the table."
      ],
      "metadata": {
        "id": "b_hi3hqfbElk"
      }
    },
    {
      "cell_type": "code",
      "source": [
        "def get_ranked():\n",
        "\n",
        "  query = \"\"\"SELECT protein.project_short_name AS study,\n",
        "                    gene_name AS gene_name,\n",
        "                    clinical.feature.key AS feature,\n",
        "                    `bqutil.fn.kruskal_wallis`(ARRAY_AGG((clinical.feature.value,protein.protein_expression))) AS reso\n",
        "\n",
        "              FROM `isb-cgc.TCGA_hg19_data_v0.Protein_Expression` protein\n",
        "              JOIN `isb-cgc-bq.supplementary_tables.Abdilleh_etal_ACM_BCB_2020_TCGA_bioclin_v0_Clinical_UNPIVOT` clinical\n",
        "              ON clinical.case_barcode = SUBSTR(protein.sample_barcode,0,12)\n",
        "              WHERE 1=1\n",
        "              AND clinical.feature.value != 'null'\n",
        "              AND protein.project_short_name = 'TCGA-BRCA'\n",
        "              GROUP BY study, gene_name, feature\n",
        "              HAVING reso.DoF > 3 and reso.DoF < 10 #and reso.p <= 0.001\n",
        "              ORDER BY study, reso.p, feature\n",
        "  \"\"\"\n",
        "  return(pandas_gbq.read_gbq(query,project_id=project_id))\n",
        "ranked = get_ranked()\n",
        "ranked"
      ],
      "metadata": {
        "id": "PRKS_kE-Zfn5"
      },
      "execution_count": null,
      "outputs": []
    },
    {
      "cell_type": "markdown",
      "source": [
        "## Visualizing the TCGA-BRCA populations by feature\n",
        "The cell below defines two functions:\n",
        "1. get_data(), which retrieves the full data set for a single gene in the BRCA study\n",
        "1. plot_data(), which plots the protein expression data, as separated by the clinical `feature`.\n"
      ],
      "metadata": {
        "id": "QCst31cJZDX1"
      }
    },
    {
      "cell_type": "code",
      "source": [
        "def get_data(feature='histological_type', gene_name='CTNNB1'):\n",
        "  query = \"\"\"SELECT protein.project_short_name AS study, clinical.feature.value,\n",
        "                    protein.protein_expression\n",
        "\n",
        "              FROM `isb-cgc.TCGA_hg19_data_v0.Protein_Expression` protein\n",
        "              JOIN `isb-cgc-bq.supplementary_tables.Abdilleh_etal_ACM_BCB_2020_TCGA_bioclin_v0_Clinical_UNPIVOT` clinical\n",
        "              ON clinical.case_barcode = SUBSTR(protein.sample_barcode,0,12)\n",
        "              WHERE 1=1\n",
        "              AND protein.project_short_name = 'TCGA-BRCA'\n",
        "              AND clinical.feature.key = '{}'\n",
        "              AND gene_name = '{}'\n",
        "  \"\"\".format(feature, gene_name)\n",
        "\n",
        "\n",
        "  df = pandas_gbq.read_gbq(query,project_id=project_id)\n",
        "  return(df)\n",
        "\n",
        "def plot_data(df, feature='histological_type', gene_name='CTNNB1', p_value=0.0):\n",
        "\n",
        "  sns.set_theme(style=\"whitegrid\")\n",
        "  axes = sns.catplot(x=\"value\", y=\"protein_expression\", data=df, kind=\"boxen\",  height=8.27, order=df.value.value_counts().index, palette=\"Set2\", aspect=1.618)\n",
        "  sns.violinplot(x=\"value\", y=\"protein_expression\",data=df, scale=\"count\", order=df.value.value_counts().index, palette=\"Set2\", aspect=1.618)\n",
        "\n",
        "  axes.fig.suptitle(t=\"Protein expression for gene: '{}' vs clinical feature: '{}', p={}\".format(gene_name, feature, p_value))\n",
        "  axes.set(ylabel=\"Protein Expression\")\n",
        "  axes.set(xlabel=\"Clinical Feature\")\n",
        "\n",
        "  axes.fig.autofmt_xdate() # rotate values in x axis\n",
        "\n",
        "  plt.show()\n",
        "  plt.close()\n"
      ],
      "metadata": {
        "id": "f5MG9xgYZJwl"
      },
      "execution_count": null,
      "outputs": []
    },
    {
      "cell_type": "markdown",
      "source": [
        "## Creating plots of the top 10 most significant results\n",
        "  Using the `ranked` data, obtained above, you will be running a for loop for the top 10 results and creating a plot for each."
      ],
      "metadata": {
        "id": "q2t3wb5tZqjZ"
      }
    },
    {
      "cell_type": "code",
      "source": [
        "for i in ranked.index:\n",
        "  df = get_data(feature=ranked['feature'][i], gene_name=ranked['gene_name'][i])\n",
        "  plot_data(df, feature=ranked['feature'][i], gene_name=ranked['gene_name'][i], p_value=ranked['reso'][i].get('p'))\n",
        "  if i > 10:\n",
        "    break\n"
      ],
      "metadata": {
        "id": "0HJHlgYf65fT"
      },
      "execution_count": null,
      "outputs": []
    },
    {
      "cell_type": "markdown",
      "source": [
        "# Conclusions\n",
        "Observing the plots, you should be able to detect that the populations for each gene plotted again Clinical Feature, do show a significant difference in the Protein Expression.\n",
        "\n",
        "This method allows you to analyze the significance across 767 genes, for almost 1000 patients, very quickly, without downloading the entire dataset. This was obtained almost instantaneously. This can be a massive savings in time and effort to analyse data.\n",
        "\n",
        "BigQuery is capable of running queries of Petabyte sized dataset, and with the growth of genomics dataset, among others, traditional methods of statistical studies are going to be hugely challenging without methods where the data remains in the data warehouse."
      ],
      "metadata": {
        "id": "VBKE4v5Dbxn9"
      }
    },
    {
      "cell_type": "markdown",
      "source": [
        "# What's next\n",
        "\n",
        "We are looking for collaborators on the Statslib package, to get more statistical analyses into the BigQuery Utils platform. Please reach out to drj_AT_google.com to get started."
      ],
      "metadata": {
        "id": "IsZgMTkHdQBy"
      }
    }
  ],
  "metadata": {
    "colab": {
      "provenance": [],
      "toc_visible": true
    },
    "kernelspec": {
      "display_name": "Python 3",
      "language": "python",
      "name": "python3"
    },
    "language_info": {
      "codemirror_mode": {
        "name": "ipython",
        "version": 3
      },
      "file_extension": ".py",
      "mimetype": "text/x-python",
      "name": "python",
      "nbconvert_exporter": "python",
      "pygments_lexer": "ipython3",
      "version": "3.7.3"
    },
    "pycharm": {
      "stem_cell": {
        "cell_type": "raw",
        "metadata": {
          "collapsed": false
        },
        "source": []
      }
    }
  },
  "nbformat": 4,
  "nbformat_minor": 0
}